{
 "cells": [
  {
   "cell_type": "code",
   "execution_count": 1,
   "metadata": {},
   "outputs": [],
   "source": [
    "#192733\n",
    "#Lao\n",
    "#2 BS ITE"
   ]
  },
  {
   "cell_type": "code",
   "execution_count": 2,
   "metadata": {},
   "outputs": [
    {
     "name": "stdin",
     "output_type": "stream",
     "text": [
      "Enter the amount in US dollars:  50\n"
     ]
    },
    {
     "name": "stdout",
     "output_type": "stream",
     "text": [
      "50 US Dollar(s) = 2500 Philippine Peso(s)\n"
     ]
    }
   ],
   "source": [
    "def dollars_to_pesos(USD):\n",
    "    Php = USD * 50\n",
    "    return \"{} US Dollar(s) = {} Philippine Peso(s)\".format(USD, Php)\n",
    "    \n",
    "value = int(input(\"Enter the amount in US dollars: \"))\n",
    "print(dollars_to_pesos(value))\n",
    "\n"
   ]
  },
  {
   "cell_type": "code",
   "execution_count": 10,
   "metadata": {},
   "outputs": [
    {
     "name": "stdin",
     "output_type": "stream",
     "text": [
      " 5\n",
      " 5\n"
     ]
    },
    {
     "name": "stdout",
     "output_type": "stream",
     "text": [
      "10\n",
      "0\n",
      "25\n",
      "1.0\n",
      "0\n"
     ]
    }
   ],
   "source": [
    "counter = 1\n",
    "while counter < 3:\n",
    "    if counter == 1:\n",
    "        firstnum=int(input())\n",
    "    \n",
    "    elif counter ==2:\n",
    "        secondnum=int(input())\n",
    "    counter = counter + 1\n",
    "        \n",
    "total=firstnum + secondnum\n",
    "difference=firstnum-secondnum\n",
    "product=firstnum*secondnum\n",
    "quotient=round(firstnum/secondnum,0)\n",
    "remainder=firstnum%secondnum\n",
    "\n",
    "print(total)\n",
    "print(difference)\n",
    "print(product)\n",
    "print(quotient)\n",
    "print(remainder)\n",
    "\n",
    "    "
   ]
  },
  {
   "cell_type": "code",
   "execution_count": 14,
   "metadata": {},
   "outputs": [
    {
     "name": "stdin",
     "output_type": "stream",
     "text": [
      "Enter kg:  65\n",
      "Enter cm:  180\n"
     ]
    },
    {
     "name": "stdout",
     "output_type": "stream",
     "text": [
      "BMI: 20.061728395061728\n"
     ]
    }
   ],
   "source": [
    "counter = 1\n",
    "while counter < 3:\n",
    "    if counter == 1:\n",
    "        weight=int(input(\"Enter kg: \"))\n",
    "    \n",
    "    elif counter ==2:\n",
    "        height=int(input(\"Enter cm: \"))\n",
    "    counter = counter + 1\n",
    "    \n",
    "BMI = weight/((height/100)**2)\n",
    "              \n",
    "print(\"BMI: \" + str(BMI))\n",
    "\n",
    "    \n",
    "    "
   ]
  },
  {
   "cell_type": "code",
   "execution_count": null,
   "metadata": {},
   "outputs": [],
   "source": []
  }
 ],
 "metadata": {
  "kernelspec": {
   "display_name": "Python 3",
   "language": "python",
   "name": "python3"
  },
  "language_info": {
   "codemirror_mode": {
    "name": "ipython",
    "version": 3
   },
   "file_extension": ".py",
   "mimetype": "text/x-python",
   "name": "python",
   "nbconvert_exporter": "python",
   "pygments_lexer": "ipython3",
   "version": "3.8.3"
  }
 },
 "nbformat": 4,
 "nbformat_minor": 4
}
